{
 "cells": [
  {
   "cell_type": "code",
   "execution_count": 35,
   "metadata": {},
   "outputs": [],
   "source": [
    "# impoprt files\n",
    "from random import uniform as rndm\n",
    "from math import sqrt"
   ]
  },
  {
   "cell_type": "code",
   "execution_count": 51,
   "metadata": {},
   "outputs": [],
   "source": [
    "def isprime(x):\n",
    "    if x>1:\n",
    "        for y in range(2,x):\n",
    "            if not(x%y):\n",
    "                return False\n",
    "    else:\n",
    "        return False\n",
    "    return True\n",
    "\n",
    "def gprime(a,b):\n",
    "    while True:\n",
    "        x = random.randint(a,b)\n",
    "        if isprime(x):\n",
    "            return x"
   ]
  },
  {
   "cell_type": "code",
   "execution_count": 52,
   "metadata": {},
   "outputs": [],
   "source": [
    "# Linear Congruential Method [0-C]\n",
    "def lcm(c,n):\n",
    "    while True:\n",
    "        x,a,b = map(int,[gprime(0,c),gprime(0,c),gprime(0,c)])\n",
    "        if not(x==a and x==b):\n",
    "            break\n",
    "    print(a,b,x)\n",
    "    for i in range(n):\n",
    "        print(x,end=\", \")\n",
    "        x = (a*x + b) % c;"
   ]
  },
  {
   "cell_type": "code",
   "execution_count": 53,
   "metadata": {},
   "outputs": [],
   "source": [
    "# Mid-Square Random Generator\n",
    "def msq(s,n):\n",
    "    d=len(str(s))\n",
    "    for i in range(n):\n",
    "        x = s*s\n",
    "        for j in range(d//2):\n",
    "            x//=10\n",
    "        s = x % (10**d)\n",
    "        print(\"%d\"%s,end=\", \")"
   ]
  },
  {
   "cell_type": "code",
   "execution_count": 54,
   "metadata": {},
   "outputs": [],
   "source": [
    "# Acceptance Rejection Method\n",
    "def arm(a,b,r):\n",
    "    for c in range(b,a,-1):\n",
    "        if isprime(c):\n",
    "            break\n",
    "    while r!=0:\n",
    "        m,n = map(float,[rndm(0,1),rndm(0,1)])\n",
    "        x,y = map(int,[a+m*(b-a),n*c])\n",
    "        if y <= sqrt((x*x)/(m+n)):\n",
    "            print(\"%d\"%x,end=\", \")\n",
    "            r-=1"
   ]
  },
  {
   "cell_type": "code",
   "execution_count": 59,
   "metadata": {},
   "outputs": [
    {
     "name": "stdout",
     "output_type": "stream",
     "text": [
      "2 5 73\n",
      "73, 50, 4, 13, 31, 67, 38, 81, 66, 36, 77, 58, 20, 45, 95, 94, 92, 88, 80, 64, "
     ]
    }
   ],
   "source": [
    "lcm(101,20) # 0-Range and No.of Randoms"
   ]
  },
  {
   "cell_type": "code",
   "execution_count": 56,
   "metadata": {},
   "outputs": [
    {
     "name": "stdout",
     "output_type": "stream",
     "text": [
      "944, 113, 276, 617, 68, 462, 344, 833, 388, 54, 291, 468, 902, 360, 960, 160, 560, "
     ]
    }
   ],
   "source": [
    "msq(479,17)"
   ]
  },
  {
   "cell_type": "code",
   "execution_count": 57,
   "metadata": {},
   "outputs": [
    {
     "name": "stdout",
     "output_type": "stream",
     "text": [
      "[101, 103, 107, 113, 127, 131, 137, 149, 151, 167, 173, 181, 193, 197, 223, 227, 233, 257, 263, 269, 271, 277, 293, 311, 313, 317, 331, 337, 347, 353, 359, 367, 383, 389, 401, 419, 421, 431, 439, 443, 457, 479, 487, 509, 521, 523, 541, 547, 569, 571, 577, 587, 599, 601, 607, 613, 617, 619, 641, 643, 647, 653, 659, 673, 701, 709, 727, 739, 769, 787, 797, 823, 829, 857, 859, 881, 883, 887, 907, 911, 919, 937, 941, 983, 991]\n"
     ]
    }
   ],
   "source": [
    "def ms(s,n,lsk):\n",
    "    d=len(str(s))\n",
    "    for i in range(n):\n",
    "        x = s*s\n",
    "        for j in range(d//2):\n",
    "            x//=10\n",
    "        s = x % (10**d)\n",
    "        if s>0:\n",
    "            if i>0 and s!=lsk[0] and s!=lsk[-1]:\n",
    "               lsk.append(s)\n",
    "            elif i<1:\n",
    "                lsk.append(s)\n",
    "\n",
    "lst = []\n",
    "for i in range (0,999):\n",
    "    ls = []\n",
    "    ms(i,100,ls)\n",
    "    if len(ls)==100 and isprime(i):\n",
    "        lst.append(i)\n",
    "print(lst)"
   ]
  },
  {
   "cell_type": "code",
   "execution_count": 58,
   "metadata": {},
   "outputs": [
    {
     "name": "stdout",
     "output_type": "stream",
     "text": [
      "269, 289, 295, 196, 234, 114, 378, 292, 308, 471, 286, 381, 251, 129, 305, 219, 410, 193, 120, 124, "
     ]
    }
   ],
   "source": [
    "arm(101,479,20)"
   ]
  },
  {
   "cell_type": "code",
   "execution_count": null,
   "metadata": {},
   "outputs": [],
   "source": []
  }
 ],
 "metadata": {
  "kernelspec": {
   "display_name": "Python 3",
   "language": "python",
   "name": "python3"
  },
  "language_info": {
   "codemirror_mode": {
    "name": "ipython",
    "version": 3
   },
   "file_extension": ".py",
   "mimetype": "text/x-python",
   "name": "python",
   "nbconvert_exporter": "python",
   "pygments_lexer": "ipython3",
   "version": "3.7.1"
  }
 },
 "nbformat": 4,
 "nbformat_minor": 2
}
