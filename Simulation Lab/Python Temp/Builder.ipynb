{
 "cells": [
  {
   "cell_type": "code",
   "execution_count": 5,
   "metadata": {},
   "outputs": [
    {
     "name": "stdout",
     "output_type": "stream",
     "text": [
      "Enter monthly sells (space separated) : 240 210 180 150 120\n",
      "Prediction for 6th month : 35\n",
      "Prediction for 7th month : 20\n",
      "Prediction for 8th month : 12\n",
      "Prediction for 9th month : 7\n",
      "Prediction for 10th month : 4\n",
      "Prediction for 11th month : 3\n",
      "Prediction for 12th month : 1\n",
      "\n",
      "Total Houses sold : 982\n"
     ]
    }
   ],
   "source": [
    "from math import ceil\n",
    "n = [int(x) for x in input(\"Enter monthly sells (space separated) : \").split()]\n",
    "k,month = map(int,[1000,12])\n",
    "while len(n)<12:\n",
    "    n.append(ceil(0.05*(k-sum(n))*(12-len(n))))\n",
    "    print(\"Prediction for %dth month : %d\"%(len(n),n[-1]))\n",
    "print(\"\\nTotal Houses sold :\",sum(n))"
   ]
  },
  {
   "cell_type": "code",
   "execution_count": null,
   "metadata": {},
   "outputs": [],
   "source": []
  },
  {
   "cell_type": "code",
   "execution_count": null,
   "metadata": {},
   "outputs": [],
   "source": []
  }
 ],
 "metadata": {
  "kernelspec": {
   "display_name": "Python 3",
   "language": "python",
   "name": "python3"
  },
  "language_info": {
   "codemirror_mode": {
    "name": "ipython",
    "version": 3
   },
   "file_extension": ".py",
   "mimetype": "text/x-python",
   "name": "python",
   "nbconvert_exporter": "python",
   "pygments_lexer": "ipython3",
   "version": "3.7.1"
  }
 },
 "nbformat": 4,
 "nbformat_minor": 2
}
