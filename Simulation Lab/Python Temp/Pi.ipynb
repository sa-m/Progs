{
 "cells": [
  {
   "cell_type": "code",
   "execution_count": 17,
   "metadata": {},
   "outputs": [],
   "source": [
    "# impoprt files\n",
    "\n",
    "from random import uniform as rndm\n",
    "import numpy as np\n",
    "import matplotlib.pyplot as plt"
   ]
  },
  {
   "cell_type": "code",
   "execution_count": 11,
   "metadata": {},
   "outputs": [
    {
     "name": "stdout",
     "output_type": "stream",
     "text": [
      "Enter radius of Circle : 5\n",
      "Enter no of points : 1000\n",
      "\n",
      "Pi is calcutlated : 3.172\n"
     ]
    }
   ],
   "source": [
    "# Prog 1, find Value of Pi\n",
    "\n",
    "def findpi(p):\n",
    "    c = 0\n",
    "    for k in range(p):\n",
    "        x = rndm(0,r)\n",
    "        y = rndm(0,r)\n",
    "        if (x*x + y*y) <= r*r:\n",
    "            c += 1\n",
    "    return ((4*c)/p)\n",
    "\n",
    "r = int(input(\"Enter radius of Circle : \"))\n",
    "p = int(input(\"Enter no of points : \"))\n",
    "\n",
    "print(\"\\nPi is calcutlated :\",findpi(p))"
   ]
  },
  {
   "cell_type": "code",
   "execution_count": 16,
   "metadata": {},
   "outputs": [
    {
     "name": "stdout",
     "output_type": "stream",
     "text": [
      "Y max = 382.500000 at X = -10.000000\n"
     ]
    }
   ],
   "source": [
    "# Prog 2, max[y=(a*a - x)**2 - b/x + c] with a=3, b=5, c=21, range[-10,10]\n",
    "\n",
    "#step = float(input(\"Enter step size : \"))\n",
    "step = 0.1\n",
    "ymax = 0 #at x=-10\n",
    "xmax = 0\n",
    "for x in np.arange(-10,10+step,step):\n",
    "    if x > -1 and x < 1:\n",
    "        x = 1\n",
    "    y = (((9-x)**2) - (5/x) + 21)\n",
    "    if ymax < y:\n",
    "        ymax = y\n",
    "        xmax = x\n",
    "print(\"Y max = %f at X = %f\"%(ymax,xmax))"
   ]
  },
  {
   "cell_type": "code",
   "execution_count": 26,
   "metadata": {},
   "outputs": [
    {
     "data": {
      "image/png": "[encoded data removed]",
      "text/plain": [
       "<matplotlib.figure.Figure at 0x39ce354080>"
      ]
     },
     "metadata": {},
     "output_type": "display_data"
    }
   ],
   "source": [
    "def graph(eq, x_range):\n",
    "    x = np.array(x_range)\n",
    "    y = eval(eq)\n",
    "    plt.plot(x,y)\n",
    "    plt.show()\n",
    "    \n",
    "graph('(9-x)**2 - (5/x) + 21', np.arange(-0.0001,0.0001,0.00001))"
   ]
  },
  {
   "cell_type": "code",
   "execution_count": 37,
   "metadata": {},
   "outputs": [
    {
     "name": "stderr",
     "output_type": "stream",
     "text": [
      "C:\\Users\\vssut\\Anaconda3\\lib\\site-packages\\ipykernel_launcher.py:1: RuntimeWarning: divide by zero encountered in true_divide\n",
      "  \"\"\"Entry point for launching an IPython kernel.\n"
     ]
    },
    {
     "data": {
      "image/png": "[encoded data removed]",
      "text/plain": [
       "<matplotlib.figure.Figure at 0x39ce12ae80>"
      ]
     },
     "metadata": {},
     "output_type": "display_data"
    }
   ],
   "source": [
    "graph('(9-x)**2 - (5/x) + 21', np.arange(-10,10,0.5))"
   ]
  },
  {
   "cell_type": "code",
   "execution_count": 38,
   "metadata": {},
   "outputs": [
    {
     "name": "stdout",
     "output_type": "stream",
     "text": [
      "126.15059504950494\n"
     ]
    }
   ],
   "source": [
    "x=-1.01\n",
    "y = (((9-x)**2) - (5/x) + 21)\n",
    "print(y)"
   ]
  },
  {
   "cell_type": "code",
   "execution_count": null,
   "metadata": {},
   "outputs": [],
   "source": []
  }
 ],
 "metadata": {
  "kernelspec": {
   "display_name": "Python 3",
   "language": "python",
   "name": "python3"
  },
  "language_info": {
   "codemirror_mode": {
    "name": "ipython",
    "version": 3
   },
   "file_extension": ".py",
   "mimetype": "text/x-python",
   "name": "python",
   "nbconvert_exporter": "python",
   "pygments_lexer": "ipython3",
   "version": "3.6.4"
  }
 },
 "nbformat": 4,
 "nbformat_minor": 2
}
