{
 "cells": [
  {
   "cell_type": "code",
   "execution_count": null,
   "metadata": {},
   "outputs": [],
   "source": [
    "\tint i,N,M,m,in;\n",
    "\tfloat data[100],sum=0,rho,sigma,Z;\n",
    "\tsrand(time(0));\n",
    "\tprintf(\"Enter the no. of random numbers:\");\n",
    "\tscanf(\"%d\",&N);\n",
    "\tfor(i=0;i<N;i++)\n",
    "\t{\n",
    "\t\tdata[i]=rand()%100/100;\n",
    "\t}\n",
    "\tprintf(\"\\nEnter the interval no. and sequence beginning:\");\n",
    "\tscanf(\"%d %d\",&m,&in);\n",
    "\tM=((N-in)/m)-1;\n",
    "\tprintf(\"\\nValue of M:%d\",M);\n",
    "\tfor(i=0;i<M;i++)\n",
    "\t{\n",
    "\t\tsum+=data[in+i*m]*data[in+i*m+m];\n",
    "\t}\n",
    "\trho=sum/(M+1)-0.25;\n",
    "\tsigma=sqrt(13*M+7)/12*(M+1);\n",
    "\tZ=rho/sigma;"
   ]
  },
  {
   "cell_type": "code",
   "execution_count": 7,
   "metadata": {},
   "outputs": [
    {
     "name": "stdout",
     "output_type": "stream",
     "text": [
      "-0.013755206500178252 3.200477394945253 -0.0042978608509789355\n"
     ]
    }
   ],
   "source": [
    "from random import uniform as rand\n",
    "from math import sqrt\n",
    "n,m,ib = map(int,[10,2,0])\n",
    "data = [rand(0,1) for i in range(n)]\n",
    "M = ((n-ib)/m)-1\n",
    "s =0\n",
    "for i in range(int(M)):\n",
    "    s += data[ib+i*m]*data[ib+i*m+m]\n",
    "ro = s/(M+1) - 0.25\n",
    "sig = sqrt(13*M+7)/12*(M+1)\n",
    "Z = ro/sig\n",
    "print(ro,sig,Z)"
   ]
  },
  {
   "cell_type": "code",
   "execution_count": null,
   "metadata": {},
   "outputs": [],
   "source": []
  }
 ],
 "metadata": {
  "kernelspec": {
   "display_name": "Python 3",
   "language": "python",
   "name": "python3"
  },
  "language_info": {
   "codemirror_mode": {
    "name": "ipython",
    "version": 3
   },
   "file_extension": ".py",
   "mimetype": "text/x-python",
   "name": "python",
   "nbconvert_exporter": "python",
   "pygments_lexer": "ipython3",
   "version": "3.7.1"
  }
 },
 "nbformat": 4,
 "nbformat_minor": 2
}
