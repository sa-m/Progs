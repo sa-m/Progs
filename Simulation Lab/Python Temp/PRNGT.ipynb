{
 "cells": [
  {
   "cell_type": "code",
   "execution_count": 1,
   "metadata": {},
   "outputs": [],
   "source": [
    "# impoprt files\n",
    "from random import uniform, randint\n",
    "from math import sqrt"
   ]
  },
  {
   "cell_type": "code",
   "execution_count": 2,
   "metadata": {},
   "outputs": [],
   "source": [
    "# Global Space\n",
    "def isprime(x):\n",
    "    if x>1:\n",
    "        for y in range(2,x):\n",
    "            if not(x%y):\n",
    "                return False\n",
    "    else:\n",
    "        return False\n",
    "    return True\n",
    "\n",
    "def gprime(a,b):\n",
    "    while True:\n",
    "        x = randint(a,b)\n",
    "        if isprime(x):\n",
    "            return x\n",
    "\n",
    "alcm = []\n",
    "amsq = []\n",
    "aarm = []"
   ]
  },
  {
   "cell_type": "code",
   "execution_count": 3,
   "metadata": {},
   "outputs": [],
   "source": [
    "# Linear Congruential Method [0-C]\n",
    "def lcm(c,n):\n",
    "    while True:\n",
    "        x,a,b = map(int,[gprime(0,c),gprime(0,c),gprime(0,c)])\n",
    "        if not(x==a and x==b):\n",
    "            break\n",
    "    #print(a,b,x)\n",
    "    for i in range(n):\n",
    "        #print(x,end=\", \")\n",
    "        alcm.append(x)\n",
    "        x = (a*x + b) % c;"
   ]
  },
  {
   "cell_type": "code",
   "execution_count": 4,
   "metadata": {},
   "outputs": [],
   "source": [
    "# Mid-Square Random Generator\n",
    "def msq(s,n):\n",
    "    d=len(str(s))\n",
    "    for i in range(n):\n",
    "        x = s*s\n",
    "        for j in range(d//2):\n",
    "            x//=10\n",
    "        s = x % (10**d)\n",
    "        #print(\"%d\"%s,end=\", \")\n",
    "        amsq.append(s)"
   ]
  },
  {
   "cell_type": "code",
   "execution_count": 5,
   "metadata": {},
   "outputs": [],
   "source": [
    "# Acceptance Rejection Method\n",
    "def arm(a,b,r):\n",
    "    for c in range(b,a,-1):\n",
    "        if isprime(c):\n",
    "            break\n",
    "    while r!=0:\n",
    "        m,n = map(float,[uniform(0,1),uniform(0,1)])\n",
    "        x,y = map(int,[a+m*(b-a),n*c])\n",
    "        if y <= sqrt((x*x)/(m+n)):\n",
    "            #print(\"%d\"%x,end=\", \")\n",
    "            aarm.append(x)\n",
    "            r-=1"
   ]
  },
  {
   "cell_type": "code",
   "execution_count": 6,
   "metadata": {},
   "outputs": [],
   "source": [
    "lcm(101,20) # 0-Range and No.of Randoms\n",
    "msq(479,20) # seed(3-Digit), No. of Randoms\n",
    "arm(101,479,20) #Range, no. of Randoms"
   ]
  },
  {
   "cell_type": "code",
   "execution_count": 7,
   "metadata": {},
   "outputs": [],
   "source": [
    "# Chi Sq. Testing\n",
    "def chi(gr):\n",
    "    s,e = map(int,[0,(sum(gr)/20)])\n",
    "    for i in range(20):                # n=20\n",
    "        s += (((gr[i] - e)**2)/e)\n",
    "    if s < 31.4:                       # value as per chi-sq table for n=20 & a=0.05\n",
    "        print(\"Accepted by Chi-Sq.\")\n",
    "    else:\n",
    "        print(\"Rejected by Chi-Sq.\")"
   ]
  },
  {
   "cell_type": "code",
   "execution_count": 8,
   "metadata": {},
   "outputs": [],
   "source": [
    "# K-S Testing\n",
    "def ks(gr):\n",
    "    gr.sort()\n",
    "    d = []\n",
    "    for i in range(20):             # n=20\n",
    "        d.append((i/20)-gr[i])\n",
    "        d.append(gr[i]-((i-1)/20))\n",
    "    mv = max(d)\n",
    "    if mv < 0.294:                    # value as per K-S table for n=20 & a=0.05\n",
    "        print(\"Accepted by K-S.\")\n",
    "    else:\n",
    "        print(\"Rejected by K-S.\")"
   ]
  },
  {
   "cell_type": "code",
   "execution_count": 9,
   "metadata": {},
   "outputs": [
    {
     "name": "stdout",
     "output_type": "stream",
     "text": [
      "LCM set [37, 49, 75, 64, 57, 25, 23, 86, 71, 89, 27, 61, 0, 53, 50, 94, 21, 48, 56, 6]\n",
      "Rejected by Chi-Sq.\n",
      "Rejected by K-S.\n",
      "MSQ set [944, 113, 276, 617, 68, 462, 344, 833, 388, 54, 291, 468, 902, 360, 960, 160, 560, 360, 960, 160]\n",
      "Rejected by Chi-Sq.\n",
      "Rejected by K-S.\n",
      "ARM set [253, 370, 464, 232, 375, 350, 306, 278, 192, 151, 413, 399, 376, 149, 144, 236, 249, 346, 393, 419]\n",
      "Rejected by Chi-Sq.\n",
      "Rejected by K-S.\n"
     ]
    }
   ],
   "source": [
    "# CHI-Sq Testing\n",
    "print(\"LCM set\",alcm)\n",
    "chi(alcm)\n",
    "ks(alcm)\n",
    "print(\"MSQ set\",amsq)\n",
    "chi(amsq)\n",
    "ks(amsq)\n",
    "print(\"ARM set\",aarm)\n",
    "chi(aarm)\n",
    "ks(aarm)"
   ]
  },
  {
   "cell_type": "code",
   "execution_count": null,
   "metadata": {},
   "outputs": [],
   "source": []
  },
  {
   "cell_type": "code",
   "execution_count": null,
   "metadata": {},
   "outputs": [],
   "source": []
  }
 ],
 "metadata": {
  "kernelspec": {
   "display_name": "Python 3",
   "language": "python",
   "name": "python3"
  },
  "language_info": {
   "codemirror_mode": {
    "name": "ipython",
    "version": 3
   },
   "file_extension": ".py",
   "mimetype": "text/x-python",
   "name": "python",
   "nbconvert_exporter": "python",
   "pygments_lexer": "ipython3",
   "version": "3.7.1"
  }
 },
 "nbformat": 4,
 "nbformat_minor": 2
}
