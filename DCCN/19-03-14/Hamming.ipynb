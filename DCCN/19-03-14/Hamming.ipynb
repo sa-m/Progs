{
 "cells": [
  {
   "cell_type": "code",
   "execution_count": 3,
   "metadata": {},
   "outputs": [],
   "source": [
    "def noOfParityBits(noOfBits):\n",
    "    i=0\n",
    "    while 2.**i <= noOfBits+i+1:\n",
    "        i+=1\n",
    "    return i\n",
    "def noOfParityBitsInCode(noOfBits):\n",
    "    i=0\n",
    "    while 2.**i <= noOfBits:\n",
    "        i+=1\n",
    "    return i\n",
    "def appendParityBits(data):\n",
    "    n=noOfParityBits(len(data))\n",
    "    i=0\n",
    "    j=0\n",
    "    k=0\n",
    "    list1=list()\n",
    "    while i <n+len(data):\n",
    "        if i== (2.**j -1):\n",
    "            list1.insert(i,0)\n",
    "            j+=1\n",
    "        else:\n",
    "            list1.insert(i,data[k])\n",
    "            k+=1\n",
    "        i+=1\n",
    "    return list1\n",
    "def hammingCodes(data):\n",
    "    n=noOfParityBits(len(data))\n",
    "    list1=appendParityBits(data)\n",
    "    i=0\n",
    "    k=1\n",
    "    while i<n:\n",
    "        k=2.**i\n",
    "        j=1\n",
    "        total=0\n",
    "        while j*k -1 <len(list1):\n",
    "            if j*k -1 == len(list1)-1:\n",
    "                lower_index=j*k -1\n",
    "                temp=list1[int(lower_index):len(list1)]\n",
    "            elif (j+1)*k -1>=len(list1):\n",
    "                lower_index=j*k -1\n",
    "                temp=list1[int(lower_index):len(list1)]\n",
    "            elif (j+1)*k -1<len(list1)-1:\n",
    "                lower_index=(j*k)-1\n",
    "                upper_index=(j+1)*k -1\n",
    "                temp=list1[int(lower_index):int(upper_index)]\n",
    "            total=total+sum(int(e) for e in temp)\n",
    "            print(total,j)\n",
    "            j+=2\n",
    "        if total%2 >0:\n",
    "            list1[int(k)-1]=1\n",
    "            print(\"Element is \",list1[int(k)-1],k)\n",
    "        i+=1\n",
    "    return list1\n",
    "def hammingCorrection(data):\n",
    "    n=noOfParityBitsInCode(len(data))\n",
    "    i=0\n",
    "    list1=list(data)\n",
    "    print(list1)\n",
    "    errorthBit=0\n",
    "    while i<n:\n",
    "        k=2.**i\n",
    "        j=1\n",
    "        total=0\n",
    "        while j*k -1 <len(list1):\n",
    "            if j*k -1 == len(list1)-1:\n",
    "                lower_index=j*k -1\n",
    "                temp=list1[int(lower_index):len(list1)]\n",
    "            elif (j+1)*k -1>=len(list1):\n",
    "                lower_index=j*k -1\n",
    "                temp=list1[int(lower_index):len(list1)]\n",
    "            elif (j+1)*k -1<len(list1)-1:\n",
    "                lower_index=(j*k)-1\n",
    "                upper_index=(j+1)*k -1\n",
    "                temp=list1[int(lower_index):int(upper_index)]\n",
    "            total=total+sum(int(e) for e in temp)\n",
    "            print(total,j)\n",
    "            j+=2\n",
    "        if total%2 >0:\n",
    "            errorthBit+=k\n",
    "        i+=1\n",
    "    if errorthBit>=1:\n",
    "        print(\"error in \",errorthBit,\" bit after correction data is \" )\n",
    "        if list1[int(errorthBit-1)]=='0' or list1[int(errorthBit-1)]==0:\n",
    "            list1[int(errorthBit-1)]=1\n",
    "        else:\n",
    "            list1[int(errorthBit-1)]=0\n",
    "    else:\n",
    "        print(\"No error\")\n",
    "    list2=list()\n",
    "    i=0\n",
    "    j=0\n",
    "    k=0\n",
    "    while i<len(list1):\n",
    "        if i!= ((2**k)-1):\n",
    "            temp=list1[int(i)]\n",
    "            list2.append(temp)\n",
    "            j+=1\n",
    "        else:\n",
    "            k+=1\n",
    "        i+=1\n",
    "    return list2"
   ]
  },
  {
   "cell_type": "code",
   "execution_count": 5,
   "metadata": {},
   "outputs": [
    {
     "name": "stdout",
     "output_type": "stream",
     "text": [
      "0 1\n",
      "1 3\n",
      "1 5\n",
      "2 7\n",
      "3 9\n",
      "4 11\n",
      "1 1\n",
      "2 3\n",
      "3 5\n",
      "Element is  1 2.0\n",
      "1 1\n",
      "2 3\n",
      "3 1\n",
      "Element is  1 8.0\n"
     ]
    },
    {
     "data": {
      "text/plain": [
       "[0, 1, '1', 0, '0', '0', '1', 1, '1', '0', '1', '1']"
      ]
     },
     "execution_count": 5,
     "metadata": {},
     "output_type": "execute_result"
    }
   ],
   "source": [
    "hammingCodes('10011011')"
   ]
  },
  {
   "cell_type": "code",
   "execution_count": 6,
   "metadata": {},
   "outputs": [
    {
     "name": "stdout",
     "output_type": "stream",
     "text": [
      "['0', '1', '1', '0', '0', '0', '1', '0', '1', '0', '1', '1']\n",
      "0 1\n",
      "1 3\n",
      "1 5\n",
      "2 7\n",
      "3 9\n",
      "4 11\n",
      "2 1\n",
      "3 3\n",
      "4 5\n",
      "1 1\n",
      "2 3\n",
      "3 1\n",
      "error in  8.0  bit after correction data is \n"
     ]
    },
    {
     "data": {
      "text/plain": [
       "['1', '0', '0', '1', '1', '0', '1', '1']"
      ]
     },
     "execution_count": 6,
     "metadata": {},
     "output_type": "execute_result"
    }
   ],
   "source": [
    "hammingCorrection('011000101011')"
   ]
  },
  {
   "cell_type": "code",
   "execution_count": null,
   "metadata": {},
   "outputs": [],
   "source": []
  }
 ],
 "metadata": {
  "kernelspec": {
   "display_name": "Python 3",
   "language": "python",
   "name": "python3"
  },
  "language_info": {
   "codemirror_mode": {
    "name": "ipython",
    "version": 3
   },
   "file_extension": ".py",
   "mimetype": "text/x-python",
   "name": "python",
   "nbconvert_exporter": "python",
   "pygments_lexer": "ipython3",
   "version": "3.7.1"
  }
 },
 "nbformat": 4,
 "nbformat_minor": 2
}
