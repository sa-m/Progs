{
 "cells": [
  {
   "cell_type": "code",
   "execution_count": 1,
   "metadata": {},
   "outputs": [
    {
     "name": "stdout",
     "output_type": "stream",
     "text": [
      "Enter Data (Binary) : 100100\n",
      "Enter Key  (Binary) : 1101\n",
      "Data to send :  100100 001\n"
     ]
    }
   ],
   "source": [
    "d = input(\"Enter Data (Binary) : \")\n",
    "k = input(\"Enter Key  (Binary) : \")\n",
    "l = len(k)\n",
    "ed = d+'0'*(l-1)\n",
    "t = ed[:l]\n",
    "while l <= len(ed):   \n",
    "    if t[0] == '1': \n",
    "        t = ''.join(str(int(k[i] != t[i])) for i in range(1, len(t)))\n",
    "    else:\n",
    "        t = ''.join(str(int(('0'*l)[i] != t[i])) for i in range(1, len(t)))\n",
    "    if l!=len(ed):\n",
    "        t += ed[l]\n",
    "    l += 1\n",
    "print(\"Data to send : \",d +' '+ t)"
   ]
  },
  {
   "cell_type": "code",
   "execution_count": 2,
   "metadata": {},
   "outputs": [
    {
     "name": "stdout",
     "output_type": "stream",
     "text": [
      "Enter Received Data : 100100001\n",
      "Enter Key  (Binary) : 1101\n",
      "Data is Valid.\n"
     ]
    }
   ],
   "source": [
    "d = input(\"Enter Received Data : \")\n",
    "k = input(\"Enter Key  (Binary) : \")\n",
    "l = len(k)\n",
    "t = d[:l]\n",
    "while l <= len(d):   \n",
    "    if t[0] == '1': \n",
    "        t = ''.join(str(int(k[i] != t[i])) for i in range(1, len(t)))\n",
    "    else:\n",
    "        t = ''.join(str(int(('0'*l)[i] != t[i])) for i in range(1, len(t)))\n",
    "    if l!=len(d):\n",
    "        t += d[l]\n",
    "    l += 1\n",
    "if int(t) == 0:\n",
    "    print(\"Data is Valid.\")\n",
    "else:\n",
    "    print(\"Data has Error.\")"
   ]
  },
  {
   "cell_type": "code",
   "execution_count": null,
   "metadata": {},
   "outputs": [],
   "source": []
  }
 ],
 "metadata": {
  "kernelspec": {
   "display_name": "Python 3",
   "language": "python",
   "name": "python3"
  },
  "language_info": {
   "codemirror_mode": {
    "name": "ipython",
    "version": 3
   },
   "file_extension": ".py",
   "mimetype": "text/x-python",
   "name": "python",
   "nbconvert_exporter": "python",
   "pygments_lexer": "ipython3",
   "version": "3.7.1"
  }
 },
 "nbformat": 4,
 "nbformat_minor": 2
}
