{
 "cells": [
  {
   "cell_type": "code",
   "execution_count": 11,
   "metadata": {},
   "outputs": [
    {
     "name": "stdout",
     "output_type": "stream",
     "text": [
      "Enter Data String : satya\n",
      "Enter value of K : 3\n",
      "Inp Data -\t 011100111100001111010011110011100001\n",
      "Segments -\t ['011100111100', '001111010011', '110011100001']\n",
      "CheckSum :\t 00000001110\n",
      "Data to send :\t 011100111100 001111010011 110011100001 00000001110\n"
     ]
    }
   ],
   "source": [
    "x=''.join(format(ord(i),'b') for i in input(\"Enter Data String : \"))\n",
    "k = int(input(\"Enter value of K : \"))\n",
    "if len(x) % k != 0:\n",
    "    for i in range(k - (len(x) % k)):\n",
    "        x='0'+x\n",
    "sz = len(x)//k\n",
    "inp=[(x[i:i+sz]) for i in range(0,len(x),sz)]\n",
    "print(\"Inp Data -\\t\",x)\n",
    "print(\"Segments -\\t\",inp)\n",
    "sum = \"0\"\n",
    "for i in range(len(inp)):\n",
    "    sum = str(bin(int(sum,2) + int(inp[i],2)))\n",
    "    while len(sum[2:])>sz:\n",
    "        sum = str(bin(int(sum[2:-sz],2) + int(sum[-sz:],2)))\n",
    "sum = ''.join(str(abs(int(i)-1)) for i in sum[2:])\n",
    "inp.append(sum)\n",
    "print(\"CheckSum :\\t\",sum)\n",
    "print(\"Data to send :\\t\",\" \".join(i for i in inp))"
   ]
  },
  {
   "cell_type": "code",
   "execution_count": 8,
   "metadata": {},
   "outputs": [
    {
     "name": "stdout",
     "output_type": "stream",
     "text": [
      "ya\n",
      "tya\n",
      "sat\n",
      "sa\n"
     ]
    }
   ],
   "source": [
    "s = 'satya'\n",
    "print(s[-2:])\n",
    "print(s[2:])\n",
    "print(s[:-2])\n",
    "print(s[:2])"
   ]
  },
  {
   "cell_type": "code",
   "execution_count": null,
   "metadata": {},
   "outputs": [],
   "source": []
  }
 ],
 "metadata": {
  "kernelspec": {
   "display_name": "Python 3",
   "language": "python",
   "name": "python3"
  },
  "language_info": {
   "codemirror_mode": {
    "name": "ipython",
    "version": 3
   },
   "file_extension": ".py",
   "mimetype": "text/x-python",
   "name": "python",
   "nbconvert_exporter": "python",
   "pygments_lexer": "ipython3",
   "version": "3.7.1"
  }
 },
 "nbformat": 4,
 "nbformat_minor": 2
}
